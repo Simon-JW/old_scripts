{
 "cells": [
  {
   "cell_type": "code",
   "execution_count": 56,
   "metadata": {
    "collapsed": false
   },
   "outputs": [
    {
     "name": "stdout",
     "output_type": "stream",
     "text": [
      "['AGCD.BoM.daily.rain.1974.nc', 'AGCD.BoM.daily.rain.1975.nc', 'AGCD.BoM.daily.rain.1976.nc', 'AGCD.BoM.daily.rain.2013.nc']\n"
     ]
    }
   ],
   "source": [
    "import numpy as np\n",
    "from netCDF4 import Dataset\n",
    "import shutil\n",
    "import os\n",
    "from os.path import join\n",
    "import time\n",
    "\n",
    "rain_list = list()\n",
    "main = r\"/g/data1/ub8/au/climate/\"\n",
    "os.chdir(main)\n",
    "for (dirpath, dirnames, filenames) in os.walk('.'):\n",
    "    for f in filenames:\n",
    "        #print f.rpartition(\".\")[0].rpartition(\".\")[0][-4:]\n",
    "        if f.rpartition(\".\")[0].rpartition(\".\")[0][-4:] == \"rain\":\n",
    "            rain_list.append(f)\n",
    "\n",
    "#print rain_list\n",
    "sub_list = rain_list[0:4]\n",
    "print sub_list\n",
    "\n"
   ]
  },
  {
   "cell_type": "code",
   "execution_count": 16,
   "metadata": {
    "collapsed": false
   },
   "outputs": [],
   "source": [
    "\n",
    "cube=np.zeros((2000,841,681))\n",
    "for f in sub_list:\n",
    "    the_file = os.path.join(main, f)\n",
    "    fh = Dataset(the_file, mode='r')\n",
    "    lon = fh.variables['longitude'][:]\n",
    "    lat = fh.variables['latitude'][:]\n",
    "    rain = fh.variables['rain'][:]\n",
    "    \n",
    "    \n",
    "\n",
    "\n",
    "\n",
    "\n"
   ]
  },
  {
   "cell_type": "code",
   "execution_count": 58,
   "metadata": {
    "collapsed": false
   },
   "outputs": [],
   "source": [
    "rain_1997 = '/g/data1/ub8/au/climate/AGCD.BoM.daily.rain.1997.nc'\n",
    "fh97 = Dataset(rain_1997, mode='r')\n",
    "\n",
    "lon97 = fh97.variables['longitude'][:]\n",
    "lat97 = fh97.variables['latitude'][:]\n",
    "rain97 = fh97.variables['rain'][:]\n",
    "\n",
    "rain_1998 = '/g/data1/ub8/au/climate/AGCD.BoM.daily.rain.1998.nc'\n",
    "fh98 = Dataset(rain_1998, mode='r')\n",
    "\n",
    "lon98 = fh98.variables['longitude'][:]\n",
    "lat98 = fh98.variables['latitude'][:]\n",
    "rain98 = fh98.variables['rain'][:]\n",
    "\n",
    "rain98day1 = rain98[0,:,:]\n",
    "rain97day1 = rain97[0,:,:]\n",
    "\n",
    "#rain97day1.shape\n",
    "rain98[0].shape\n",
    "\n",
    "file_list = [rain97day1,rain98day1]\n",
    "\n",
    "#len(rain98[1])\n",
    "\n",
    "#print file_list\n"
   ]
  },
  {
   "cell_type": "code",
   "execution_count": 37,
   "metadata": {
    "collapsed": false
   },
   "outputs": [
    {
     "name": "stdout",
     "output_type": "stream",
     "text": [
      "0\n",
      "1\n",
      "[[ 0.          0.          0.         ...,  0.          0.          0.        ]\n",
      " [ 0.          0.          0.         ...,  0.          0.          0.        ]\n",
      " [ 0.          0.          0.         ...,  0.          0.          0.        ]\n",
      " ..., \n",
      " [ 0.          0.          0.         ...,  6.45806456  6.45806456\n",
      "   6.50967741]\n",
      " [ 0.          0.          0.         ...,  6.48709679  6.48709679\n",
      "   6.53870964]\n",
      " [ 0.          0.          0.         ...,  6.51290321  6.51612902\n",
      "   6.56451607]]\n"
     ]
    }
   ],
   "source": [
    "\n",
    "\n",
    "cube = np.zeros(shape=(2,841,681))\n",
    "\n",
    "#print cube[0,:,:]\n",
    "\n",
    "cube[0,:,:] = rain97day1\n",
    "\n",
    "#print cube[0,:,:]\n",
    "\n",
    "for i in range(0,2):\n",
    "    file = file_list[i]\n",
    "    cube[i,:,:] = file\n",
    "    print i\n",
    "\n",
    "print cube[0,:,:]"
   ]
  },
  {
   "cell_type": "code",
   "execution_count": 38,
   "metadata": {
    "collapsed": false
   },
   "outputs": [
    {
     "name": "stdout",
     "output_type": "stream",
     "text": [
      "[[ 0.          0.          0.         ...,  0.          0.          0.        ]\n",
      " [ 0.          0.          0.         ...,  0.          0.          0.        ]\n",
      " [ 0.          0.          0.         ...,  0.          0.          0.        ]\n",
      " ..., \n",
      " [ 0.          0.          0.         ...,  3.7516129   3.70322585\n",
      "   3.70645165]\n",
      " [ 0.          0.          0.         ...,  3.76774192  3.71935487\n",
      "   3.72258067]\n",
      " [ 0.          0.          0.         ...,  3.78387117  3.78387117\n",
      "   3.73870969]]\n"
     ]
    }
   ],
   "source": [
    "print cube[1,:,:]"
   ]
  },
  {
   "cell_type": "code",
   "execution_count": null,
   "metadata": {
    "collapsed": true
   },
   "outputs": [],
   "source": []
  }
 ],
 "metadata": {
  "kernelspec": {
   "display_name": "Python 2",
   "language": "python",
   "name": "python2"
  },
  "language_info": {
   "codemirror_mode": {
    "name": "ipython",
    "version": 2
   },
   "file_extension": ".py",
   "mimetype": "text/x-python",
   "name": "python",
   "nbconvert_exporter": "python",
   "pygments_lexer": "ipython2",
   "version": "2.7.11"
  }
 },
 "nbformat": 4,
 "nbformat_minor": 0
}
