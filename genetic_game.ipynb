{
 "cells": [
  {
   "cell_type": "markdown",
   "metadata": {},
   "source": [
    "# Creating classes"
   ]
  },
  {
   "cell_type": "code",
   "execution_count": null,
   "metadata": {},
   "outputs": [],
   "source": [
    "from random import randint"
   ]
  },
  {
   "cell_type": "code",
   "execution_count": 203,
   "metadata": {},
   "outputs": [],
   "source": [
    "# define the Vehicle class\n",
    "class Barbarian:\n",
    "    strength = 1.5\n",
    "    stamina = 1.2\n",
    "    agility = 0.8\n",
    "    name = \"\"\n",
    "    def description(self):\n",
    "        desc_str = \"%s is a barbarian with %s strength, %s stamina and %s agility.\" % (self.name, self.strength, \n",
    "                                                   self.stamina, self.agility)\n",
    "        return desc_str"
   ]
  },
  {
   "cell_type": "code",
   "execution_count": 204,
   "metadata": {},
   "outputs": [],
   "source": [
    "stat_list = (1.0, 2.0, 3.0, 4.0, 5.0, 6.0, 7.0, 8.0, 9.0, 10.0)\n",
    "barbarian_name_list = ('blorg', 'torg', 'buttpie')"
   ]
  },
  {
   "cell_type": "code",
   "execution_count": 208,
   "metadata": {},
   "outputs": [],
   "source": [
    "def generate_population(creature_class, number):\n",
    "    gang_objects = []\n",
    "    for i in range(0,number):\n",
    "        specimen_i = 'specimen' + str(i)\n",
    "        specimen_i = creature_class()\n",
    "        specimen_i.strength = stat_list[(randint(0, 9))] * specimen_i.strength\n",
    "        specimen_i.stamina = stat_list[(randint(0, 9))]\n",
    "        specimen_i.agility = stat_list[(randint(0, 9))]\n",
    "        specimen_i.name = barbarian_name_list[(randint(0, 2))] \n",
    "        gang_objects.append(specimen_i)\n",
    "        \n",
    "    return gang_objects"
   ]
  },
  {
   "cell_type": "code",
   "execution_count": 209,
   "metadata": {},
   "outputs": [
    {
     "name": "stdout",
     "output_type": "stream",
     "text": [
      "torg is a barbarian with 12.0 strength, 5.0 stamina and 2.0 agility.\n",
      "torg is a barbarian with 9.0 strength, 6.0 stamina and 10.0 agility.\n",
      "buttpie is a barbarian with 1.5 strength, 1.0 stamina and 9.0 agility.\n",
      "blorg is a barbarian with 13.5 strength, 3.0 stamina and 9.0 agility.\n",
      "blorg is a barbarian with 15.0 strength, 5.0 stamina and 5.0 agility.\n",
      "blorg is a barbarian with 7.5 strength, 2.0 stamina and 10.0 agility.\n",
      "buttpie is a barbarian with 13.5 strength, 1.0 stamina and 8.0 agility.\n",
      "blorg is a barbarian with 3.0 strength, 9.0 stamina and 2.0 agility.\n",
      "buttpie is a barbarian with 7.5 strength, 8.0 stamina and 5.0 agility.\n"
     ]
    }
   ],
   "source": [
    "gang_1 = generate_population(Barbarian,10)\n",
    "for i in range(0,9):\n",
    "    barbarian_i = gang_1[i]\n",
    "    print(barbarian_i.description())"
   ]
  },
  {
   "cell_type": "code",
   "execution_count": 210,
   "metadata": {},
   "outputs": [
    {
     "data": {
      "text/plain": [
       "'torg'"
      ]
     },
     "execution_count": 210,
     "metadata": {},
     "output_type": "execute_result"
    }
   ],
   "source": [
    "gang_1_member_1 = gang_1[0]\n",
    "gang_1_member_1.name\n"
   ]
  },
  {
   "cell_type": "markdown",
   "metadata": {},
   "source": [
    "# Generating landscapes"
   ]
  },
  {
   "cell_type": "code",
   "execution_count": 228,
   "metadata": {},
   "outputs": [],
   "source": [
    "import numpy as np\n",
    "import scipy\n",
    "from scipy.ndimage.filters import *\n",
    "import matplotlib.pyplot as plt\n",
    "#import matplotlib.image as mpimg\n",
    "%matplotlib inline"
   ]
  },
  {
   "cell_type": "code",
   "execution_count": 224,
   "metadata": {},
   "outputs": [
    {
     "data": {
      "text/plain": [
       "array([[1, 4, 4, 0, 2, 2, 4, 2, 0, 0],\n",
       "       [2, 1, 1, 2, 3, 3, 3, 3, 3, 4],\n",
       "       [0, 2, 0, 3, 2, 4, 1, 2, 4, 1],\n",
       "       [0, 4, 0, 1, 3, 0, 0, 3, 4, 2],\n",
       "       [3, 3, 1, 2, 2, 2, 1, 3, 4, 1],\n",
       "       [1, 2, 2, 1, 3, 2, 4, 1, 4, 0],\n",
       "       [3, 2, 2, 1, 2, 0, 1, 2, 3, 1],\n",
       "       [1, 1, 0, 2, 4, 3, 2, 1, 1, 3],\n",
       "       [1, 0, 4, 3, 2, 4, 1, 2, 0, 3],\n",
       "       [3, 1, 3, 4, 0, 3, 0, 2, 2, 4]])"
      ]
     },
     "execution_count": 224,
     "metadata": {},
     "output_type": "execute_result"
    }
   ],
   "source": [
    "grid = np.random.randint(5, size=(10, 10))\n",
    "grid"
   ]
  },
  {
   "cell_type": "code",
   "execution_count": 226,
   "metadata": {},
   "outputs": [
    {
     "data": {
      "text/plain": [
       "array([[1, 2, 2, 2, 2, 3, 3, 3, 2, 0],\n",
       "       [1, 1, 2, 2, 2, 3, 3, 3, 2, 1],\n",
       "       [1, 1, 1, 2, 3, 3, 3, 3, 3, 3],\n",
       "       [2, 1, 2, 2, 2, 2, 2, 3, 3, 2],\n",
       "       [2, 2, 2, 2, 2, 2, 2, 3, 3, 2],\n",
       "       [3, 2, 2, 2, 2, 2, 2, 3, 2, 1],\n",
       "       [1, 2, 2, 2, 2, 2, 2, 2, 1, 1],\n",
       "       [1, 1, 2, 2, 2, 2, 2, 1, 2, 3],\n",
       "       [1, 1, 2, 3, 3, 2, 2, 1, 2, 3],\n",
       "       [1, 3, 3, 3, 3, 1, 2, 2, 2, 3]])"
      ]
     },
     "execution_count": 226,
     "metadata": {},
     "output_type": "execute_result"
    }
   ],
   "source": [
    "filtered_grid = median_filter(grid, size=3,  mode='reflect')\n",
    "filtered_grid"
   ]
  },
  {
   "cell_type": "code",
   "execution_count": 232,
   "metadata": {},
   "outputs": [
    {
     "data": {
      "text/plain": [
       "<matplotlib.colorbar.Colorbar at 0x1fe128a3710>"
      ]
     },
     "execution_count": 232,
     "metadata": {},
     "output_type": "execute_result"
    },
    {
     "data": {
      "image/png": "[encoded data removed]",
      "text/plain": [
       "<matplotlib.figure.Figure at 0x1fe11747ba8>"
      ]
     },
     "metadata": {},
     "output_type": "display_data"
    }
   ],
   "source": [
    "plt.imshow(filtered_grid, cmap=\"Set1\")\n",
    "plt.colorbar()"
   ]
  },
  {
   "cell_type": "code",
   "execution_count": 233,
   "metadata": {},
   "outputs": [
    {
     "data": {
      "text/plain": [
       "2"
      ]
     },
     "execution_count": 233,
     "metadata": {},
     "output_type": "execute_result"
    }
   ],
   "source": [
    "filtered_grid[2,3]"
   ]
  },
  {
   "cell_type": "code",
   "execution_count": null,
   "metadata": {},
   "outputs": [],
   "source": [
    "def take_values(array):\n",
    "    focus = \n",
    "    \n",
    "    \n",
    "    "
   ]
  }
 ],
 "metadata": {
  "kernelspec": {
   "display_name": "Python 3",
   "language": "python",
   "name": "python3"
  },
  "language_info": {
   "codemirror_mode": {
    "name": "ipython",
    "version": 3
   },
   "file_extension": ".py",
   "mimetype": "text/x-python",
   "name": "python",
   "nbconvert_exporter": "python",
   "pygments_lexer": "ipython3",
   "version": "3.6.4"
  }
 },
 "nbformat": 4,
 "nbformat_minor": 2
}
