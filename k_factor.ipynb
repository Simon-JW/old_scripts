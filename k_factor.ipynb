{
 "cells": [
  {
   "cell_type": "code",
   "execution_count": 16,
   "metadata": {
    "collapsed": false
   },
   "outputs": [],
   "source": [
    "import math\n",
    "\n",
    "silt = 45.0\n",
    "sand = 15.0\n",
    "organic = 2.0\n",
    "clay = 0.0\n",
    "perm = 3.0\n",
    "struct = 2.0\n",
    "silt_to_clay = (silt *(100.0 - clay))**1.14\n",
    "rock_fragment = 2\n"
   ]
  },
  {
   "cell_type": "code",
   "execution_count": 17,
   "metadata": {
    "collapsed": false
   },
   "outputs": [
    {
     "name": "stdout",
     "output_type": "stream",
     "text": [
      "k1a = 0.40\n",
      "k1b = 0.52\n"
     ]
    }
   ],
   "source": [
    "#All new equations\n",
    "\n",
    "#K1:\n",
    "\n",
    "# a) for silt fraction < 70%\n",
    "\n",
    "k1a = 2.77 * (10**-5) * silt_to_clay\n",
    "\n",
    "# b) for silt fraction > 70%\n",
    "\n",
    "k1b = 1.75 * (10 **-5) * silt_to_clay + (0.0024 * silt) + 0.16\n",
    "\n",
    "print ('k1a = ' + str(\"%.2f\" % round(k1a,2)))\n",
    "\n",
    "print ('k1b = ' + str(\"%.2f\" % round(k1b,2)))\n"
   ]
  },
  {
   "cell_type": "code",
   "execution_count": 18,
   "metadata": {
    "collapsed": true
   },
   "outputs": [],
   "source": [
    "#K2:\n",
    "\n",
    "# a) for organic content < 4%\n",
    "\n",
    "k2a = (12 - organic)/10\n",
    "\n",
    "# b) for organic content > 4%\n",
    "\n",
    "k2b = 0.8"
   ]
  },
  {
   "cell_type": "code",
   "execution_count": 19,
   "metadata": {
    "collapsed": false
   },
   "outputs": [
    {
     "name": "stdout",
     "output_type": "stream",
     "text": [
      "k3a = 0.40\n",
      "k3b = 0.44\n"
     ]
    }
   ],
   "source": [
    "#K3: \n",
    "k1 = k1a # or k1b depending on the scenario.\n",
    "k2 = k2a # or k2b depending on the scenario.\n",
    "\n",
    "# a) for k1 * k2 > 0.2\n",
    "\n",
    "k3a = k1 * k2 + (0.043 *(struct - 2)) + (0.033 * (perm - 3))\n",
    "\n",
    "print ('k3a = ' + str(\"%.2f\" % round(k3a,2)))\n",
    "\n",
    "# b) for k1 * k2 < 0.2\n",
    "\n",
    "k3b = 0.091 - (0.34 * k1) * k2 + (1.79 *((k1 * k2)**2)) + (0.24 * k1) * k2 * struct + (0.033 * (perm - 3))\n",
    "\n",
    "print ('k3b = ' + str(\"%.2f\" % round(k3b,2)))\n"
   ]
  },
  {
   "cell_type": "code",
   "execution_count": 20,
   "metadata": {
    "collapsed": false
   },
   "outputs": [
    {
     "name": "stdout",
     "output_type": "stream",
     "text": [
      "ka = 0.40\n",
      "kb = 0.40\n"
     ]
    }
   ],
   "source": [
    "#K: These next two are just for data with rock cover (which I don't currently have \n",
    "#but could expand the linear systems to 4X4 to account for this) other wise K == K3.\n",
    "\n",
    "# a) for rock fragment cover < 1.5%\n",
    "\n",
    "k3 = k3a # change this to a or b depending on the scenario.\n",
    "\n",
    "ka = k3\n",
    "\n",
    "print ('ka = ' + str(\"%.2f\" % round(ka,2)))\n",
    "\n",
    "# b) for rock fragment cover > 1.5%\n",
    "\n",
    "kb = k3 * (1.1 * math.exp(-0.024* rock_fragment) - 0.06)\n",
    "\n",
    "print ('kb = ' + str(\"%.2f\" % round(kb,2)))"
   ]
  },
  {
   "cell_type": "code",
   "execution_count": null,
   "metadata": {
    "collapsed": true
   },
   "outputs": [],
   "source": []
  }
 ],
 "metadata": {
  "kernelspec": {
   "display_name": "Python 2",
   "language": "python",
   "name": "python2"
  },
  "language_info": {
   "codemirror_mode": {
    "name": "ipython",
    "version": 2
   },
   "file_extension": ".py",
   "mimetype": "text/x-python",
   "name": "python",
   "nbconvert_exporter": "python",
   "pygments_lexer": "ipython2",
   "version": "2.7.11"
  }
 },
 "nbformat": 4,
 "nbformat_minor": 0
}
