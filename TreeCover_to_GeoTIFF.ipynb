{
 "cells": [
  {
   "cell_type": "code",
   "execution_count": 1,
   "metadata": {},
   "outputs": [],
   "source": [
    "%%capture\n",
    "\n",
    "from siphon.catalog import TDSCatalog \n",
    "import numpy as np\n",
    "import xarray as xr\n",
    "import pandas as pd\n",
    "import scipy\n",
    "import gdal\n",
    "from scipy.ndimage.filters import uniform_filter\n",
    "from scipy import ndimage\n",
    "from scipy.ndimage.filters import *\n",
    "import os\n",
    "import math\n",
    "from osgeo import osr\n",
    "from fractions import Fraction\n",
    "import timeit\n",
    "import matplotlib.pyplot as plt\n",
    "#import matplotlib.image as mpimg\n",
    "%matplotlib inline\n",
    "import random\n",
    "# import plotting tools\n",
    "from mpl_toolkits.mplot3d import Axes3D\n",
    "import matplotlib.pyplot as plt\n",
    "from matplotlib import cm\n",
    "from matplotlib.ticker import LinearLocator, FormatStrFormatter\n",
    "import matplotlib as mpl\n"
   ]
  },
  {
   "cell_type": "code",
   "execution_count": 2,
   "metadata": {},
   "outputs": [
    {
     "data": {
      "text/plain": [
       "<xarray.Dataset>\n",
       "Dimensions:    (latitude: 14000, longitude: 16800, time: 1)\n",
       "Coordinates:\n",
       "  * time       (time) datetime64[ns] 2014-12-31\n",
       "  * latitude   (latitude) float32 -9.00125 -9.00375 ... -43.9963 -43.9987\n",
       "  * longitude  (longitude) float32 112.001 112.004 112.006 ... 153.996 153.999\n",
       "Data variables:\n",
       "    TreeCover  (time, longitude, latitude) float32 ...\n",
       "Attributes:\n",
       "    creator_name:   Water and Landscape Dynamics group\n",
       "    creator_url:    http://www.wenfo.org/wald/\n",
       "    creator_email:  albert.vandijk@anu.edu.au\n",
       "    institution:    Australian National University\n",
       "    date_created:   19-Mar-2018\n",
       "    ANU_license:    Creative Commons with Attribution (https://creativecommon..."
      ]
     },
     "execution_count": 2,
     "metadata": {},
     "output_type": "execute_result"
    }
   ],
   "source": [
    "location = (r'D:/PhD/junk')\n",
    "os.chdir(location)\n",
    "tc_2014 = 'D:/PhD/junk/ANUWALD.TreeCover.2014.250m.nc'\n",
    "#url = 'http://dapds00.nci.org.au/thredds/dodsC/ub8/au/treecover/250m/ANUWALD.TreeCover.2014.250m.nc'\n",
    "data = xr.open_dataset(tc_2014)\n",
    "data"
   ]
  },
  {
   "cell_type": "code",
   "execution_count": 3,
   "metadata": {},
   "outputs": [
    {
     "data": {
      "text/plain": [
       "['TreeCover', 'time', 'latitude', 'longitude']"
      ]
     },
     "execution_count": 3,
     "metadata": {},
     "output_type": "execute_result"
    }
   ],
   "source": [
    "list(data.variables.keys())"
   ]
  },
  {
   "cell_type": "code",
   "execution_count": 5,
   "metadata": {},
   "outputs": [
    {
     "data": {
      "text/plain": [
       "<xarray.DataArray 'TreeCover' (time: 1, longitude: 16800, latitude: 14000)>\n",
       "[235200000 values with dtype=float32]\n",
       "Coordinates:\n",
       "  * time       (time) datetime64[ns] 2014-12-31\n",
       "  * latitude   (latitude) float32 -9.00125 -9.00375 ... -43.9963 -43.9987\n",
       "  * longitude  (longitude) float32 112.001 112.004 112.006 ... 153.996 153.999\n",
       "Attributes:\n",
       "    short_name:  TreeCover\n",
       "    long_name:   Tree Cover\n",
       "    units:       percent"
      ]
     },
     "execution_count": 5,
     "metadata": {},
     "output_type": "execute_result"
    }
   ],
   "source": [
    "data.TreeCover"
   ]
  },
  {
   "cell_type": "code",
   "execution_count": 4,
   "metadata": {},
   "outputs": [],
   "source": [
    "trees = data.TreeCover.sel(time = '2014-12-31')\n",
    "goodnight = trees.sel(latitude=slice(-25.15, -25.40), longitude=slice(151.80, 152.05))\n",
    "study_site = goodnight.transpose('latitude', 'longitude')\n",
    "study_site_n = np.array(study_site)\n"
   ]
  },
  {
   "cell_type": "code",
   "execution_count": 6,
   "metadata": {},
   "outputs": [
    {
     "data": {
      "text/plain": [
       "<xarray.DataArray 'TreeCover' (longitude: 16800, latitude: 14000)>\n",
       "[235200000 values with dtype=float32]\n",
       "Coordinates:\n",
       "    time       datetime64[ns] 2014-12-31\n",
       "  * latitude   (latitude) float32 -9.00125 -9.00375 ... -43.9963 -43.9987\n",
       "  * longitude  (longitude) float32 112.001 112.004 112.006 ... 153.996 153.999\n",
       "Attributes:\n",
       "    short_name:  TreeCover\n",
       "    long_name:   Tree Cover\n",
       "    units:       percent"
      ]
     },
     "execution_count": 6,
     "metadata": {},
     "output_type": "execute_result"
    }
   ],
   "source": [
    "trees"
   ]
  },
  {
   "cell_type": "code",
   "execution_count": 25,
   "metadata": {},
   "outputs": [
    {
     "data": {
      "text/plain": [
       "<matplotlib.colorbar.Colorbar at 0x2bc83084e48>"
      ]
     },
     "execution_count": 25,
     "metadata": {},
     "output_type": "execute_result"
    },
    {
     "data": {
      "image/png": "[encoded data removed]",
      "text/plain": [
       "<matplotlib.figure.Figure at 0x2bc82f1e748>"
      ]
     },
     "metadata": {},
     "output_type": "display_data"
    }
   ],
   "source": [
    "plt.imshow(study_site_n, cmap=\"gist_earth_r\", vmax = 20)\n",
    "plt.colorbar()"
   ]
  },
  {
   "cell_type": "code",
   "execution_count": 126,
   "metadata": {},
   "outputs": [
    {
     "data": {
      "text/plain": [
       "<xarray.DataArray 'latitude' (latitude: 14000)>\n",
       "array([ -9.00125,  -9.00375,  -9.00625, ..., -43.99375, -43.99625, -43.99875],\n",
       "      dtype=float32)\n",
       "Coordinates:\n",
       "  * latitude  (latitude) float32 -9.00125 -9.00375 -9.00625 -9.00875 ...\n",
       "Attributes:\n",
       "    long_name:  latitude\n",
       "    units:      degrees_north"
      ]
     },
     "execution_count": 126,
     "metadata": {},
     "output_type": "execute_result"
    }
   ],
   "source": [
    "data.latitude"
   ]
  },
  {
   "cell_type": "code",
   "execution_count": 27,
   "metadata": {},
   "outputs": [],
   "source": [
    "def array2raster(newRasterfn,rasterOrigin,pixelWidth,pixelHeight,array):\n",
    "\n",
    "    cols = array.shape[1]\n",
    "    rows = array.shape[0]\n",
    "    originX = rasterOrigin[0]\n",
    "    originY = rasterOrigin[1]\n",
    "\n",
    "    driver = gdal.GetDriverByName('GTiff')\n",
    "    outRaster = driver.Create(newRasterfn, cols, rows, 1, gdal.GDT_Byte)\n",
    "    outRaster.SetGeoTransform((originX, pixelWidth, 0, originY, 0, pixelHeight))\n",
    "    outband = outRaster.GetRasterBand(1)\n",
    "    outband.WriteArray(array)\n",
    "    outRasterSRS = osr.SpatialReference()\n",
    "    outRasterSRS.ImportFromEPSG(4326)\n",
    "    outRaster.SetProjection(outRasterSRS.ExportToWkt())\n",
    "    outband.FlushCache()\n",
    "\n",
    "def main(newRasterfn,rasterOrigin,pixelWidth,pixelHeight,array):\n",
    "    reversed_arr = array[::-1] # reverse array so the tif looks like the array\n",
    "    array2raster(newRasterfn,rasterOrigin,pixelWidth,pixelHeight,reversed_arr) # convert array to raster\n",
    "\n",
    "\n",
    "if __name__ == \"__main__\":\n",
    "    rasterOrigin = (151.80,-25.40)\n",
    "    pixelWidth = 0.0025\n",
    "    pixelHeight = 0.0025\n",
    "    newRasterfn = 'new_test.tif'\n",
    "    array = study_site_n\n",
    "    main(newRasterfn,rasterOrigin,pixelWidth,pixelHeight,array)"
   ]
  },
  {
   "cell_type": "code",
   "execution_count": null,
   "metadata": {},
   "outputs": [],
   "source": []
  }
 ],
 "metadata": {
  "kernelspec": {
   "display_name": "Python 3",
   "language": "python",
   "name": "python3"
  },
  "language_info": {
   "codemirror_mode": {
    "name": "ipython",
    "version": 3
   },
   "file_extension": ".py",
   "mimetype": "text/x-python",
   "name": "python",
   "nbconvert_exporter": "python",
   "pygments_lexer": "ipython3",
   "version": "3.6.8"
  }
 },
 "nbformat": 4,
 "nbformat_minor": 2
}
