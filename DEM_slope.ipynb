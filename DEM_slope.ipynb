{
 "cells": [
  {
   "cell_type": "code",
   "execution_count": 1,
   "metadata": {
    "collapsed": true
   },
   "outputs": [],
   "source": [
    "import numpy as np\n",
    "import xarray as xr\n",
    "import scipy\n",
    "import gdal\n",
    "from scipy.ndimage.filters import uniform_filter\n",
    "from scipy.ndimage.filters import *\n",
    "import os\n",
    "import math\n",
    "\n",
    "\n",
    "import matplotlib.pyplot as plt\n",
    "#import matplotlib.image as mpimg\n",
    "%matplotlib inline"
   ]
  },
  {
   "cell_type": "code",
   "execution_count": 2,
   "metadata": {
    "collapsed": false
   },
   "outputs": [
    {
     "data": {
      "text/plain": [
       "array([[8, 9, 2, 0, 4],\n",
       "       [6, 3, 4, 7, 2],\n",
       "       [0, 2, 9, 9, 1],\n",
       "       [8, 7, 1, 6, 8],\n",
       "       [9, 4, 5, 2, 3]])"
      ]
     },
     "execution_count": 2,
     "metadata": {},
     "output_type": "execute_result"
    }
   ],
   "source": [
    "y = np.random.rand(25).reshape((5,5)).astype(np.float32)\n",
    "practice_DEM = (y*10).astype(np.int)\n",
    "practice_DEM"
   ]
  },
  {
   "cell_type": "code",
   "execution_count": 3,
   "metadata": {
    "collapsed": false
   },
   "outputs": [
    {
     "data": {
      "text/plain": [
       "9"
      ]
     },
     "execution_count": 3,
     "metadata": {},
     "output_type": "execute_result"
    }
   ],
   "source": [
    "practice_DEM[0,1]"
   ]
  },
  {
   "cell_type": "code",
   "execution_count": 4,
   "metadata": {
    "collapsed": true
   },
   "outputs": [],
   "source": [
    "def npCenteredSlope(y, dx):\n",
    "    \"\"\"Calculates slope by diferencing shifted vectors of length 2.\n",
    "       y is a DEM read in as a numpy array.\"\"\"\n",
    "    dydx = (y[:,2:] - y[:,:-2])/(2*dx)\n",
    "    return dydx"
   ]
  },
  {
   "cell_type": "code",
   "execution_count": 5,
   "metadata": {
    "collapsed": false
   },
   "outputs": [
    {
     "data": {
      "text/plain": [
       "array([[-3. , -4.5,  1. ],\n",
       "       [-1. ,  2. , -1. ],\n",
       "       [ 4.5,  3.5, -4. ],\n",
       "       [-3.5, -0.5,  3.5],\n",
       "       [-2. , -1. , -1. ]])"
      ]
     },
     "execution_count": 5,
     "metadata": {},
     "output_type": "execute_result"
    }
   ],
   "source": [
    "npCenteredSlope(practice_DEM,1)"
   ]
  },
  {
   "cell_type": "code",
   "execution_count": 6,
   "metadata": {
    "collapsed": true
   },
   "outputs": [],
   "source": [
    "def assignBCs(elevGrid):\n",
    "    \n",
    "    \"\"\"This function pads an input DEM by one cell along each edge. \n",
    "       The values assigned to the padded cells is taken from the \n",
    "       nearest value of the input DEM.\"\"\"\n",
    "    \n",
    "    ny, nx = elevGrid.shape\n",
    "    Zbc = np.zeros((ny + 2, nx + 2))\n",
    "    Zbc[1:-1, 1:-1] = elevGrid\n",
    "    \n",
    "    #Assign boundary conditions - sides.\n",
    "    Zbc[0, 1:-1] = elevGrid[0, :]\n",
    "    Zbc[-1, 1:-1] = elevGrid[-1, :]\n",
    "    Zbc[1:-1, 0] = elevGrid[:, 0]\n",
    "    Zbc[1:-1, -1] = elevGrid[:, -1]\n",
    "    \n",
    "    #Assign boundary conditions - sides.\n",
    "    Zbc[0, 0] = elevGrid[0, 0]\n",
    "    Zbc[0, -1] = elevGrid[0, -1]\n",
    "    Zbc[-1, 0] = elevGrid[-1, 0]\n",
    "    Zbc[-1, -1] = elevGrid[-1, -1]\n",
    "    \n",
    "    return Zbc"
   ]
  },
  {
   "cell_type": "code",
   "execution_count": 7,
   "metadata": {
    "collapsed": false
   },
   "outputs": [
    {
     "data": {
      "text/plain": [
       "array([[ 8.,  8.,  9.,  2.,  0.,  4.,  4.],\n",
       "       [ 8.,  8.,  9.,  2.,  0.,  4.,  4.],\n",
       "       [ 6.,  6.,  3.,  4.,  7.,  2.,  2.],\n",
       "       [ 0.,  0.,  2.,  9.,  9.,  1.,  1.],\n",
       "       [ 8.,  8.,  7.,  1.,  6.,  8.,  8.],\n",
       "       [ 9.,  9.,  4.,  5.,  2.,  3.,  3.],\n",
       "       [ 9.,  9.,  4.,  5.,  2.,  3.,  3.]])"
      ]
     },
     "execution_count": 7,
     "metadata": {},
     "output_type": "execute_result"
    }
   ],
   "source": [
    "assignBCs(practice_DEM)"
   ]
  },
  {
   "cell_type": "code",
   "execution_count": 15,
   "metadata": {
    "collapsed": true
   },
   "outputs": [],
   "source": [
    "def calcFiniteSlope(elevGrid, dx):\n",
    "    \n",
    "    \"\"\"Calculates the slope given by a shifted vector of two cells first\n",
    "       in the x direction and then y direction.\"\"\"\n",
    "    \n",
    "    #Assign boundary conditions.\n",
    "    Zbc = assignBCs(elevGrid)\n",
    "    \n",
    "    #Calculate dydx for shifted vector of size 2.\n",
    "    Sx = (Zbc[1:-1, 2:] - Zbc[1:-1, :-2])/(2*dx)\n",
    "    Sy = (Zbc[2:,1:-1] - Zbc[:-2, 1:-1])/(2*dx)\n",
    "    \n",
    "    slope_degrees = np.arctan(np.sqrt(Sx**2 + Sy**2)) * 57.29578\n",
    "    \n",
    "    return Sx, Sy, slope_degrees"
   ]
  },
  {
   "cell_type": "code",
   "execution_count": 16,
   "metadata": {
    "collapsed": false
   },
   "outputs": [
    {
     "data": {
      "text/plain": [
       "(array([[ 0.5, -3. , -4.5,  1. ,  2. ],\n",
       "        [-1.5, -1. ,  2. , -1. , -2.5],\n",
       "        [ 1. ,  4.5,  3.5, -4. , -4. ],\n",
       "        [-0.5, -3.5, -0.5,  3.5,  1. ],\n",
       "        [-2.5, -2. , -1. , -1. ,  0.5]]),\n",
       " array([[-1. , -3. ,  1. ,  3.5, -1. ],\n",
       "        [-4. , -3.5,  3.5,  4.5, -1.5],\n",
       "        [ 1. ,  2. , -1.5, -0.5,  3. ],\n",
       "        [ 4.5,  1. , -2. , -3.5,  1. ],\n",
       "        [ 0.5, -1.5,  2. , -2. , -2.5]]),\n",
       " array([[ 48.18968551,  76.73732464,  77.76044236,  74.63860524,\n",
       "          65.90515801],\n",
       "        [ 76.82528849,  74.63860524,  76.0679091 ,  77.76044236,\n",
       "          71.06817742],\n",
       "        [ 54.73561078,  78.52107795,  75.28564705,  76.0679091 ,\n",
       "          78.69006819],\n",
       "        [ 77.54542429,  74.63860524,  64.12331048,  78.57824701,\n",
       "          54.73561078],\n",
       "        [ 68.58328655,  68.19859109,  65.90515801,  65.90515801,\n",
       "          68.58328655]]))"
      ]
     },
     "execution_count": 16,
     "metadata": {},
     "output_type": "execute_result"
    }
   ],
   "source": [
    "calcFiniteSlope(practice_DEM, 1)"
   ]
  },
  {
   "cell_type": "code",
   "execution_count": 17,
   "metadata": {
    "collapsed": true
   },
   "outputs": [],
   "source": [
    "DEM_test = np.array([[ 50,  45,  50],\n",
    "                      [30,  30,  30],\n",
    "                      [8, 10, 10]],dtype = np.float32)"
   ]
  },
  {
   "cell_type": "code",
   "execution_count": 21,
   "metadata": {
    "collapsed": false
   },
   "outputs": [],
   "source": [
    "def slopeRate(DEM, x_cellsize, y_cellsize):\n",
    "    \n",
    "    a = DEM_test[0,0]; b = DEM_test[0,1]; c = DEM_test[0,2]\n",
    "    d = DEM_test[1,0]; e = DEM_test[1,1]; f = DEM_test[1,2]\n",
    "    g = DEM_test[2,0]; h = DEM_test[2,1]; i = DEM_test[2,2]\n",
    "    \n",
    "    dzdx = ((c + (2*f) + i) - (a + (2*d) + g)) / (8 * x_cellsize)\n",
    "    dzdy = ((g + (2*h) + i) - (a + (2*b) + c)) / (8 * y_cellsize)\n",
    "    \n",
    "    rise_run = np.sqrt(dzdx**2 + dzdy**2)\n",
    "    \n",
    "    slope_degrees = np.arctan(rise_run) * (180/math.pi)\n",
    "    \n",
    "    return slope_degrees"
   ]
  },
  {
   "cell_type": "code",
   "execution_count": 22,
   "metadata": {
    "collapsed": false
   },
   "outputs": [
    {
     "data": {
      "text/plain": [
       "75.25765769167738"
      ]
     },
     "execution_count": 22,
     "metadata": {},
     "output_type": "execute_result"
    }
   ],
   "source": [
    "slopeRate(DEM_test, 5, 5)"
   ]
  },
  {
   "cell_type": "code",
   "execution_count": null,
   "metadata": {
    "collapsed": true
   },
   "outputs": [],
   "source": []
  }
 ],
 "metadata": {
  "kernelspec": {
   "display_name": "Python 3",
   "language": "python",
   "name": "python3"
  },
  "language_info": {
   "codemirror_mode": {
    "name": "ipython",
    "version": 3
   },
   "file_extension": ".py",
   "mimetype": "text/x-python",
   "name": "python",
   "nbconvert_exporter": "python",
   "pygments_lexer": "ipython3",
   "version": "3.5.2"
  }
 },
 "nbformat": 4,
 "nbformat_minor": 0
}
